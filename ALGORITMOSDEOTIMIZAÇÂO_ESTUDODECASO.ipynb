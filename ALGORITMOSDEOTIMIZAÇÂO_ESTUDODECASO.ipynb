{
  "nbformat": 4,
  "nbformat_minor": 0,
  "metadata": {
    "colab": {
      "provenance": [],
      "include_colab_link": true
    },
    "kernelspec": {
      "name": "python3",
      "display_name": "Python 3"
    },
    "language_info": {
      "name": "python"
    }
  },
  "cells": [
    {
      "cell_type": "markdown",
      "metadata": {
        "id": "view-in-github",
        "colab_type": "text"
      },
      "source": [
        "<a href=\"https://colab.research.google.com/github/BiancadeFrancisco/algoritmo_otimizacao_ViagemAmigos/blob/main/ALGORITMOSDEOTIMIZA%C3%87%C3%82O_ESTUDODECASO.ipynb\" target=\"_parent\"><img src=\"https://colab.research.google.com/assets/colab-badge.svg\" alt=\"Open In Colab\"/></a>"
      ]
    },
    {
      "cell_type": "markdown",
      "source": [
        "Vamos abordar o seguinte cenário: Existem 6 amigos que estão partindo de diferentes locais do Brasil e têm como objetivo se encontrar em São Paulo. A intenção é compartilhar o carro até o centro da cidade para minimizar os custos. Após realizarem suas atividades, planejam compartilhar novamente o transporte de volta ao aeroporto, para retornarem às suas respectivas cidades.\n",
        "Considerando que cada pessoa partirá dos aeroportos de suas respectivas localidades, temos Amanda saindo de Curitiba (CWB), Pedro saindo do Rio de Janeiro (GIG), Marcus saindo de Florianópolis (FLN), Jéssica saindo de Belo Horizonte (CNF) e Paulo saindo de Goiânia (GYN). O aeroporto de chegada em São Paulo será o Aeroporto Internacional de Guarulhos.\n",
        "O objetivo é que todas as pessoas cheguem ao aeroporto para que possam partir juntas e alugar um carro. O ideal é que realizem essa viagem em um único dia, conhecido como \"bate e volta\"."
      ],
      "metadata": {
        "id": "spzvjqQRcTsq"
      }
    },
    {
      "cell_type": "code",
      "source": [
        "# chamar a base de dados\n",
        "from google.colab import files\n",
        "import io\n",
        "\n",
        "uploaded = files.upload()\n",
        "uploaded"
      ],
      "metadata": {
        "colab": {
          "base_uri": "https://localhost:8080/",
          "height": 128
        },
        "id": "4nGfCY9vgfZj",
        "outputId": "8e970c8c-ba00-4d13-894f-d95d8503ed64"
      },
      "execution_count": null,
      "outputs": [
        {
          "output_type": "display_data",
          "data": {
            "text/plain": [
              "<IPython.core.display.HTML object>"
            ],
            "text/html": [
              "\n",
              "     <input type=\"file\" id=\"files-f9d0f790-1798-4e8f-8dbd-e982add75741\" name=\"files[]\" multiple disabled\n",
              "        style=\"border:none\" />\n",
              "     <output id=\"result-f9d0f790-1798-4e8f-8dbd-e982add75741\">\n",
              "      Upload widget is only available when the cell has been executed in the\n",
              "      current browser session. Please rerun this cell to enable.\n",
              "      </output>\n",
              "      <script>// Copyright 2017 Google LLC\n",
              "//\n",
              "// Licensed under the Apache License, Version 2.0 (the \"License\");\n",
              "// you may not use this file except in compliance with the License.\n",
              "// You may obtain a copy of the License at\n",
              "//\n",
              "//      http://www.apache.org/licenses/LICENSE-2.0\n",
              "//\n",
              "// Unless required by applicable law or agreed to in writing, software\n",
              "// distributed under the License is distributed on an \"AS IS\" BASIS,\n",
              "// WITHOUT WARRANTIES OR CONDITIONS OF ANY KIND, either express or implied.\n",
              "// See the License for the specific language governing permissions and\n",
              "// limitations under the License.\n",
              "\n",
              "/**\n",
              " * @fileoverview Helpers for google.colab Python module.\n",
              " */\n",
              "(function(scope) {\n",
              "function span(text, styleAttributes = {}) {\n",
              "  const element = document.createElement('span');\n",
              "  element.textContent = text;\n",
              "  for (const key of Object.keys(styleAttributes)) {\n",
              "    element.style[key] = styleAttributes[key];\n",
              "  }\n",
              "  return element;\n",
              "}\n",
              "\n",
              "// Max number of bytes which will be uploaded at a time.\n",
              "const MAX_PAYLOAD_SIZE = 100 * 1024;\n",
              "\n",
              "function _uploadFiles(inputId, outputId) {\n",
              "  const steps = uploadFilesStep(inputId, outputId);\n",
              "  const outputElement = document.getElementById(outputId);\n",
              "  // Cache steps on the outputElement to make it available for the next call\n",
              "  // to uploadFilesContinue from Python.\n",
              "  outputElement.steps = steps;\n",
              "\n",
              "  return _uploadFilesContinue(outputId);\n",
              "}\n",
              "\n",
              "// This is roughly an async generator (not supported in the browser yet),\n",
              "// where there are multiple asynchronous steps and the Python side is going\n",
              "// to poll for completion of each step.\n",
              "// This uses a Promise to block the python side on completion of each step,\n",
              "// then passes the result of the previous step as the input to the next step.\n",
              "function _uploadFilesContinue(outputId) {\n",
              "  const outputElement = document.getElementById(outputId);\n",
              "  const steps = outputElement.steps;\n",
              "\n",
              "  const next = steps.next(outputElement.lastPromiseValue);\n",
              "  return Promise.resolve(next.value.promise).then((value) => {\n",
              "    // Cache the last promise value to make it available to the next\n",
              "    // step of the generator.\n",
              "    outputElement.lastPromiseValue = value;\n",
              "    return next.value.response;\n",
              "  });\n",
              "}\n",
              "\n",
              "/**\n",
              " * Generator function which is called between each async step of the upload\n",
              " * process.\n",
              " * @param {string} inputId Element ID of the input file picker element.\n",
              " * @param {string} outputId Element ID of the output display.\n",
              " * @return {!Iterable<!Object>} Iterable of next steps.\n",
              " */\n",
              "function* uploadFilesStep(inputId, outputId) {\n",
              "  const inputElement = document.getElementById(inputId);\n",
              "  inputElement.disabled = false;\n",
              "\n",
              "  const outputElement = document.getElementById(outputId);\n",
              "  outputElement.innerHTML = '';\n",
              "\n",
              "  const pickedPromise = new Promise((resolve) => {\n",
              "    inputElement.addEventListener('change', (e) => {\n",
              "      resolve(e.target.files);\n",
              "    });\n",
              "  });\n",
              "\n",
              "  const cancel = document.createElement('button');\n",
              "  inputElement.parentElement.appendChild(cancel);\n",
              "  cancel.textContent = 'Cancel upload';\n",
              "  const cancelPromise = new Promise((resolve) => {\n",
              "    cancel.onclick = () => {\n",
              "      resolve(null);\n",
              "    };\n",
              "  });\n",
              "\n",
              "  // Wait for the user to pick the files.\n",
              "  const files = yield {\n",
              "    promise: Promise.race([pickedPromise, cancelPromise]),\n",
              "    response: {\n",
              "      action: 'starting',\n",
              "    }\n",
              "  };\n",
              "\n",
              "  cancel.remove();\n",
              "\n",
              "  // Disable the input element since further picks are not allowed.\n",
              "  inputElement.disabled = true;\n",
              "\n",
              "  if (!files) {\n",
              "    return {\n",
              "      response: {\n",
              "        action: 'complete',\n",
              "      }\n",
              "    };\n",
              "  }\n",
              "\n",
              "  for (const file of files) {\n",
              "    const li = document.createElement('li');\n",
              "    li.append(span(file.name, {fontWeight: 'bold'}));\n",
              "    li.append(span(\n",
              "        `(${file.type || 'n/a'}) - ${file.size} bytes, ` +\n",
              "        `last modified: ${\n",
              "            file.lastModifiedDate ? file.lastModifiedDate.toLocaleDateString() :\n",
              "                                    'n/a'} - `));\n",
              "    const percent = span('0% done');\n",
              "    li.appendChild(percent);\n",
              "\n",
              "    outputElement.appendChild(li);\n",
              "\n",
              "    const fileDataPromise = new Promise((resolve) => {\n",
              "      const reader = new FileReader();\n",
              "      reader.onload = (e) => {\n",
              "        resolve(e.target.result);\n",
              "      };\n",
              "      reader.readAsArrayBuffer(file);\n",
              "    });\n",
              "    // Wait for the data to be ready.\n",
              "    let fileData = yield {\n",
              "      promise: fileDataPromise,\n",
              "      response: {\n",
              "        action: 'continue',\n",
              "      }\n",
              "    };\n",
              "\n",
              "    // Use a chunked sending to avoid message size limits. See b/62115660.\n",
              "    let position = 0;\n",
              "    do {\n",
              "      const length = Math.min(fileData.byteLength - position, MAX_PAYLOAD_SIZE);\n",
              "      const chunk = new Uint8Array(fileData, position, length);\n",
              "      position += length;\n",
              "\n",
              "      const base64 = btoa(String.fromCharCode.apply(null, chunk));\n",
              "      yield {\n",
              "        response: {\n",
              "          action: 'append',\n",
              "          file: file.name,\n",
              "          data: base64,\n",
              "        },\n",
              "      };\n",
              "\n",
              "      let percentDone = fileData.byteLength === 0 ?\n",
              "          100 :\n",
              "          Math.round((position / fileData.byteLength) * 100);\n",
              "      percent.textContent = `${percentDone}% done`;\n",
              "\n",
              "    } while (position < fileData.byteLength);\n",
              "  }\n",
              "\n",
              "  // All done.\n",
              "  yield {\n",
              "    response: {\n",
              "      action: 'complete',\n",
              "    }\n",
              "  };\n",
              "}\n",
              "\n",
              "scope.google = scope.google || {};\n",
              "scope.google.colab = scope.google.colab || {};\n",
              "scope.google.colab._files = {\n",
              "  _uploadFiles,\n",
              "  _uploadFilesContinue,\n",
              "};\n",
              "})(self);\n",
              "</script> "
            ]
          },
          "metadata": {}
        },
        {
          "output_type": "stream",
          "name": "stdout",
          "text": [
            "Saving voos.txt to voos (1).txt\n"
          ]
        },
        {
          "output_type": "execute_result",
          "data": {
            "text/plain": [
              "{'voos (1).txt': b'GRU,GYN,6:19,8:13,239\\r\\nGYN,GRU,6:11,8:31,249\\r\\nGRU,GYN,8:04,10:59,136\\r\\nGYN,GRU,7:39,10:24,219\\r\\nGRU,GYN,9:31,11:43,210\\r\\nGYN,GRU,9:15,12:03,99\\r\\nGRU,GYN,11:07,13:24,171\\r\\nGYN,GRU,11:08,13:07,175\\r\\nGRU,GYN,12:31,14:02,234\\r\\nGYN,GRU,12:18,14:56,172\\r\\nGRU,GYN,14:05,15:47,226\\r\\nGYN,GRU,13:37,15:08,250\\r\\nGRU,GYN,15:07,17:21,129\\r\\nGYN,GRU,15:03,16:42,135\\r\\nGRU,GYN,16:35,18:56,144\\r\\nGYN,GRU,16:51,19:09,147\\r\\nGRU,GYN,18:25,20:34,205\\r\\nGYN,GRU,18:12,20:17,242\\r\\nGRU,GYN,20:05,21:44,172\\r\\nGYN,GRU,20:05,22:06,261\\r\\nGRU,CNF,6:03,8:43,219\\r\\nCNF,GRU,6:05,8:32,174\\r\\nGRU,CNF,7:50,10:08,164\\r\\nCNF,GRU,8:25,10:34,157\\r\\nGRU,CNF,9:11,10:42,172\\r\\nCNF,GRU,9:42,11:32,169\\r\\nGRU,CNF,10:33,13:11,132\\r\\nCNF,GRU,11:01,12:39,260\\r\\nGRU,CNF,12:08,14:47,231\\r\\nCNF,GRU,12:44,14:17,134\\r\\nGRU,CNF,14:19,17:09,190\\r\\nCNF,GRU,14:22,16:32,126\\r\\nGRU,CNF,15:04,17:23,189\\r\\nCNF,GRU,15:58,18:40,173\\r\\nGRU,CNF,17:06,20:00,95\\r\\nCNF,GRU,16:43,19:00,246\\r\\nGRU,CNF,18:33,20:22,143\\r\\nCNF,GRU,18:48,21:45,246\\r\\nGRU,CNF,19:32,21:25,160\\r\\nCNF,GRU,19:50,22:24,269\\r\\nGRU,FLN,6:33,9:14,172\\r\\nFLN,GRU,6:25,9:30,335\\r\\nGRU,FLN,8:23,11:07,143\\r\\nFLN,GRU,7:34,9:40,324\\r\\nGRU,FLN,9:25,12:46,295\\r\\nFLN,GRU,9:15,12:29,225\\r\\nGRU,FLN,11:08,14:38,262\\r\\nFLN,GRU,11:28,14:40,248\\r\\nGRU,FLN,12:37,15:05,170\\r\\nFLN,GRU,12:05,15:30,330\\r\\nGRU,FLN,14:08,16:09,232\\r\\nFLN,GRU,14:01,17:24,338\\r\\nGRU,FLN,15:23,18:49,150\\r\\nFLN,GRU,15:34,18:11,326\\r\\nGRU,FLN,16:50,19:26,304\\r\\nFLN,GRU,17:07,20:04,291\\r\\nGRU,FLN,18:07,21:30,355\\r\\nFLN,GRU,18:23,21:35,134\\r\\nGRU,FLN,20:27,23:42,169\\r\\nFLN,GRU,19:53,22:21,173\\r\\nGRU,CWB,6:39,8:09,86\\r\\nCWB,GRU,6:17,8:26,89\\r\\nGRU,CWB,8:23,10:28,149\\r\\nCWB,GRU,8:04,10:11,95\\r\\nGRU,CWB,9:58,11:18,130\\r\\nCWB,GRU,9:45,11:50,172\\r\\nGRU,CWB,10:33,12:03,74\\r\\nCWB,GRU,11:16,13:29,83\\r\\nGRU,CWB,12:08,14:05,142\\r\\nCWB,GRU,12:34,15:02,109\\r\\nGRU,CWB,13:39,15:30,74\\r\\nCWB,GRU,13:40,15:37,138\\r\\nGRU,CWB,15:25,16:58,62\\r\\nCWB,GRU,15:27,17:18,151\\r\\nGRU,CWB,17:03,18:03,103\\r\\nCWB,GRU,17:11,18:30,108\\r\\nGRU,CWB,18:24,20:49,124\\r\\nCWB,GRU,18:34,19:36,136\\r\\nGRU,CWB,19:58,21:23,142\\r\\nCWB,GRU,20:17,22:22,102\\r\\nGRU,GIG,6:09,9:49,414\\r\\nGIG,GRU,6:12,10:22,230\\r\\nGRU,GIG,7:57,11:15,347\\r\\nGIG,GRU,7:53,11:37,433\\r\\nGRU,GIG,9:49,13:51,229\\r\\nGIG,GRU,9:08,12:12,364\\r\\nGRU,GIG,10:51,14:16,256\\r\\nGIG,GRU,10:30,14:57,290\\r\\nGRU,GIG,12:20,16:34,500\\r\\nGIG,GRU,12:19,15:25,342\\r\\nGRU,GIG,14:20,17:32,332\\r\\nGIG,GRU,13:54,18:02,294\\r\\nGRU,GIG,15:49,20:10,497\\r\\nGIG,GRU,15:44,18:55,382\\r\\nGRU,GIG,17:14,20:59,277\\r\\nGIG,GRU,16:52,20:48,448\\r\\nGRU,GIG,18:44,22:42,351\\r\\nGIG,GRU,18:26,21:29,464\\r\\nGRU,GIG,19:57,23:15,512\\r\\nGIG,GRU,20:07,23:27,473\\r\\nGRU,POA,6:58,9:01,238\\r\\nPOA,GRU,6:08,8:06,224\\r\\nGRU,POA,8:19,11:16,122\\r\\nPOA,GRU,8:27,10:45,139\\r\\nGRU,POA,9:58,12:56,249\\r\\nPOA,GRU,9:15,12:14,247\\r\\nGRU,POA,10:32,13:16,139\\r\\nPOA,GRU,10:53,13:36,189\\r\\nGRU,POA,12:01,13:41,267\\r\\nPOA,GRU,12:08,14:59,149\\r\\nGRU,POA,13:37,15:33,142\\r\\nPOA,GRU,13:40,15:38,137\\r\\nGRU,POA,15:50,18:45,243\\r\\nPOA,GRU,15:23,17:25,232\\r\\nGRU,POA,16:33,18:15,253\\r\\nPOA,GRU,17:08,19:08,262\\r\\nGRU,POA,18:17,21:04,259\\r\\nPOA,GRU,18:35,20:28,204\\r\\nGRU,POA,19:46,21:45,214\\r\\nPOA,GRU,20:30,23:11,114\\r\\n'}"
            ]
          },
          "metadata": {},
          "execution_count": 2
        }
      ]
    },
    {
      "cell_type": "code",
      "source": [
        "#importando as bibliotecas\n",
        "import time\n",
        "import random\n",
        "import math\n"
      ],
      "metadata": {
        "id": "DOgPgjDbfeP-"
      },
      "execution_count": null,
      "outputs": []
    },
    {
      "cell_type": "code",
      "source": [
        "#variáveis do problema\n",
        "\n",
        "pessoas = [('Amanda','CWB'),\n",
        "        ('Pedro','GIG'),\n",
        "        ('Marcos','POA'),\n",
        "        ('Priscila','FLN'),\n",
        "        ('Jessica','CNF'),\n",
        "        ('Paulo','GYN')]\n",
        "\n",
        "destino = 'GRU'"
      ],
      "metadata": {
        "id": "iZafvVJwc5EC"
      },
      "execution_count": null,
      "outputs": []
    },
    {
      "cell_type": "code",
      "source": [
        "#base de voos\n",
        "voos = {}\n",
        "for linha in open('voos.txt'):\n",
        "  _origem, _destino, _saida, _chegada, _preco = linha.split(',')\n",
        "  voos.setdefault((_origem, _destino),[])\n",
        "  voos[(_origem, _destino)].append((_saida, _chegada, int(_preco)))"
      ],
      "metadata": {
        "id": "mO-AWr_IgIZ2"
      },
      "execution_count": null,
      "outputs": []
    },
    {
      "cell_type": "code",
      "source": [
        "#Impressão da agenda de Voos\n",
        "# [1,4, 3,2, 7,3, 6,3, 2,4, 5,3] exemplo de lista de pessoas com voos que irão ser pegos\n",
        "def imprimir_agenda(agenda):\n",
        "    id_voo = -1\n",
        "    for i in range(len(agenda) // 2): #(//2 para pegar os dados em dupla)\n",
        "        nome = pessoas[i][0]\n",
        "        origem = pessoas[i][1]\n",
        "        id_voo += 1\n",
        "        ida = voos[(origem, destino)][agenda[id_voo]]\n",
        "        id_voo += 1\n",
        "        volta = voos[(destino, origem)][agenda[id_voo]]\n",
        "        print('%10s%10s %5s-%5s R$%3s %5s-%5s R$%3s' % (nome, origem, ida[0], ida[1], ida[2],\n",
        "                                                       volta[0], volta[1], volta[2]))\n",
        "\n",
        "agenda = [1,4, 3,2, 7,3, 6,3, 2,4, 5,3]\n",
        "imprimir_agenda(agenda)"
      ],
      "metadata": {
        "colab": {
          "base_uri": "https://localhost:8080/"
        },
        "id": "p0_iObNRlGb4",
        "outputId": "29848f54-dd77-4bac-a706-4a67f4b755a4"
      },
      "execution_count": null,
      "outputs": [
        {
          "output_type": "stream",
          "name": "stdout",
          "text": [
            "    Amanda       CWB  8:04-10:11 R$ 95 12:08-14:05 R$142\n",
            "     Pedro       GIG 10:30-14:57 R$290  9:49-13:51 R$229\n",
            "    Marcos       POA 17:08-19:08 R$262 10:32-13:16 R$139\n",
            "  Priscila       FLN 15:34-18:11 R$326 11:08-14:38 R$262\n",
            "   Jessica       CNF  9:42-11:32 R$169 12:08-14:47 R$231\n",
            "     Paulo       GYN 13:37-15:08 R$250 11:07-13:24 R$171\n"
          ]
        }
      ]
    }
  ]
}